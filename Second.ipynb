{
 "cells": [
  {
   "cell_type": "code",
   "execution_count": null,
   "id": "2ad6f035-4243-479a-b182-021637ae5696",
   "metadata": {},
   "outputs": [],
   "source": []
  }
 ],
 "metadata": {
  "kernelspec": {
   "display_name": "",
   "name": ""
  },
  "language_info": {
   "name": ""
  }
 },
 "nbformat": 4,
 "nbformat_minor": 5
}
