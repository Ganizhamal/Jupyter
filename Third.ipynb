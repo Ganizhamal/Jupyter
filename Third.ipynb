{
  "nbformat": 4,
  "nbformat_minor": 0,
  "metadata": {
    "colab": {
      "provenance": [],
      "authorship_tag": "ABX9TyOFVNzZrZ/oIH+DLmS1AaGc",
      "include_colab_link": true
    },
    "kernelspec": {
      "name": "python3",
      "display_name": "Python 3"
    },
    "language_info": {
      "name": "python"
    }
  },
  "cells": [
    {
      "cell_type": "markdown",
      "metadata": {
        "id": "view-in-github",
        "colab_type": "text"
      },
      "source": [
        "<a href=\"https://colab.research.google.com/github/Ganizhamal/Jupyter/blob/develop/Third.ipynb\" target=\"_parent\"><img src=\"https://colab.research.google.com/assets/colab-badge.svg\" alt=\"Open In Colab\"/></a>"
      ]
    },
    {
      "cell_type": "markdown",
      "source": [
        "# Третий файл"
      ],
      "metadata": {
        "id": "CO01Kt7W2FgY"
      }
    },
    {
      "cell_type": "code",
      "execution_count": null,
      "metadata": {
        "colab": {
          "base_uri": "https://localhost:8080/"
        },
        "id": "rQX73RGc0-HH",
        "outputId": "8cb87a04-a2d6-4092-f940-2be65494e3e6"
      },
      "outputs": [
        {
          "output_type": "stream",
          "name": "stdout",
          "text": [
            "Hello World!\n"
          ]
        }
      ],
      "source": [
        "print('Hello World!')"
      ]
    },
    {
      "cell_type": "markdown",
      "source": [
        "$\\sqrt{3x-1}+(1+x)^2$"
      ],
      "metadata": {
        "id": "XbtB7yGYC3EO"
      }
    },
    {
      "cell_type": "code",
      "source": [
        "myoutput = \"\"\"\\\n",
        "@ Step      Energy      Delta E  Gmax    Grms    Xrms    Xmax    Walltime\n",
        "@ ---- -------------- --------- ------- ------- ------- ------- ----------\n",
        "@    0 -6095.12544083  0.0D+00  0.03686 0.00936 0.00000 0.00000     1391.5\n",
        "@    1 -6095.25762870  -1.3D-01 0.00732 0.00168 0.32456 0.84140    10468.0\n",
        "@    2 -6095.26325979  -5.6D-03 0.00233 0.00056 0.06294 0.14009    11963.5\n",
        "@    3 -6095.26428124  -1.0D-03 0.00109 0.00024 0.03245 0.10269    13331.9\n",
        "@    4 -6095.26463203  -3.5D-04 0.00057 0.00013 0.02737 0.09112    14710.8\n",
        "@    5 -6095.26477615  -1.4D-04 0.00043 0.00009 0.02259 0.08615    20211.1\n",
        "@    6 -6095.26482624  -5.0D-05 0.00015 0.00002 0.00831 0.03147    21726.1\n",
        "@    7 -6095.26483584  -9.6D-06 0.00021 0.00004 0.01473 0.05265    24890.5\n",
        "@    8 -6095.26484405  -8.2D-06 0.00005 0.00001 0.00555 0.01929    26448.7\n",
        "@    9 -6095.26484599  -1.9D-06 0.00003 0.00001 0.00164 0.00564    27258.1\n",
        "@   10 -6095.26484676  -7.7D-07 0.00003 0.00001 0.00161 0.00553    28155.3\n",
        "@   11 -6095.26484693  -1.8D-07 0.00002 0.00000 0.00054 0.00151    28981.7\n",
        "@   11 -6095.26484693  -1.8D-07 0.00002 0.00000 0.00054 0.00151    28981.7\"\"\""
      ],
      "metadata": {
        "id": "oRcab-GTFXY-"
      },
      "execution_count": null,
      "outputs": []
    },
    {
      "cell_type": "code",
      "source": [
        "lines = myoutput.splitlines()\n",
        "lines"
      ],
      "metadata": {
        "colab": {
          "base_uri": "https://localhost:8080/"
        },
        "id": "VpQBIeAbLwTe",
        "outputId": "6523eb70-3cf8-44ea-8794-bb4627e5dbef"
      },
      "execution_count": null,
      "outputs": [
        {
          "output_type": "execute_result",
          "data": {
            "text/plain": [
              "['@ Step      Energy      Delta E  Gmax    Grms    Xrms    Xmax    Walltime',\n",
              " '@ ---- -------------- --------- ------- ------- ------- ------- ----------',\n",
              " '@    0 -6095.12544083  0.0D+00  0.03686 0.00936 0.00000 0.00000     1391.5',\n",
              " '@    1 -6095.25762870  -1.3D-01 0.00732 0.00168 0.32456 0.84140    10468.0',\n",
              " '@    2 -6095.26325979  -5.6D-03 0.00233 0.00056 0.06294 0.14009    11963.5',\n",
              " '@    3 -6095.26428124  -1.0D-03 0.00109 0.00024 0.03245 0.10269    13331.9',\n",
              " '@    4 -6095.26463203  -3.5D-04 0.00057 0.00013 0.02737 0.09112    14710.8',\n",
              " '@    5 -6095.26477615  -1.4D-04 0.00043 0.00009 0.02259 0.08615    20211.1',\n",
              " '@    6 -6095.26482624  -5.0D-05 0.00015 0.00002 0.00831 0.03147    21726.1',\n",
              " '@    7 -6095.26483584  -9.6D-06 0.00021 0.00004 0.01473 0.05265    24890.5',\n",
              " '@    8 -6095.26484405  -8.2D-06 0.00005 0.00001 0.00555 0.01929    26448.7',\n",
              " '@    9 -6095.26484599  -1.9D-06 0.00003 0.00001 0.00164 0.00564    27258.1',\n",
              " '@   10 -6095.26484676  -7.7D-07 0.00003 0.00001 0.00161 0.00553    28155.3',\n",
              " '@   11 -6095.26484693  -1.8D-07 0.00002 0.00000 0.00054 0.00151    28981.7',\n",
              " '@   11 -6095.26484693  -1.8D-07 0.00002 0.00000 0.00054 0.00151    28981.7']"
            ]
          },
          "metadata": {},
          "execution_count": 7
        }
      ]
    },
    {
      "cell_type": "code",
      "source": [
        "lines[2].split()"
      ],
      "metadata": {
        "colab": {
          "base_uri": "https://localhost:8080/"
        },
        "id": "HKExHNOeMEmJ",
        "outputId": "e00fe160-4e99-4e6e-d79f-45cae3e4e640"
      },
      "execution_count": null,
      "outputs": [
        {
          "output_type": "execute_result",
          "data": {
            "text/plain": [
              "['@',\n",
              " '0',\n",
              " '-6095.12544083',\n",
              " '0.0D+00',\n",
              " '0.03686',\n",
              " '0.00936',\n",
              " '0.00000',\n",
              " '0.00000',\n",
              " '1391.5']"
            ]
          },
          "metadata": {},
          "execution_count": 8
        }
      ]
    }
  ]
}